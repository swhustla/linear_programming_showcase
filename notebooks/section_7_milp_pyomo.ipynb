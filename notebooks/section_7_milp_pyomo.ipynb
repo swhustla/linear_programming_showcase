{
 "cells": [
  {
   "cell_type": "markdown",
   "id": "d9062c06-d000-48e2-a065-f8662804fd0f",
   "metadata": {},
   "source": [
    "# Section 7: MILP in PyOmo"
   ]
  },
  {
   "cell_type": "markdown",
   "id": "1a04774b-4bb7-4962-bd8e-e7c6a4d0161e",
   "metadata": {},
   "source": [
    "We wish to minimise -4x - 2y, given these constraints:\n",
    "\n",
    "x + y <= 8  \n",
    "8x + 3y <= -24\n",
    "-6x + 8y <= 48  \n",
    "3x + 5y <= 15\n",
    "\n",
    "\n",
    "x <= 3  \n",
    "0 <= y"
   ]
  },
  {
   "cell_type": "code",
   "execution_count": null,
   "id": "5ed72bf1-21ce-416e-b714-e45d34e4852d",
   "metadata": {},
   "outputs": [],
   "source": [
    "# Type in our constraints\n",
    "# x + y <= 8  \n",
    "# 8x + 3y <= -24\n",
    "# -6x + 8y <= 48  \n",
    "# 3x + 5y <= 15\n",
    "\n",
    "# Create the model\n",
    "\n"
   ]
  }
 ],
 "metadata": {
  "kernelspec": {
   "display_name": "Python 3 (ipykernel)",
   "language": "python",
   "name": "python3"
  },
  "language_info": {
   "codemirror_mode": {
    "name": "ipython",
    "version": 3
   },
   "file_extension": ".py",
   "mimetype": "text/x-python",
   "name": "python",
   "nbconvert_exporter": "python",
   "pygments_lexer": "ipython3",
   "version": "3.10.8"
  }
 },
 "nbformat": 4,
 "nbformat_minor": 5
}
