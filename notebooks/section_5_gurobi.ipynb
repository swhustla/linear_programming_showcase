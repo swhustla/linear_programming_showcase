{
 "cells": [
  {
   "cell_type": "markdown",
   "id": "accc32d6-2fd6-471c-ba2c-cc4eeb6c17ae",
   "metadata": {},
   "source": [
    "# Gurobi"
   ]
  },
  {
   "cell_type": "code",
   "execution_count": 11,
   "id": "ccd2b89c-6adb-4669-b0d2-43cde9d9e124",
   "metadata": {
    "tags": []
   },
   "outputs": [],
   "source": [
    "from gurobipy import Model, GRB, quicksum\n",
    "\n",
    "# Not good to depend on a single solver"
   ]
  },
  {
   "cell_type": "code",
   "execution_count": 12,
   "id": "1cdd55e9-282a-44d5-b24e-1dcad9b328bf",
   "metadata": {
    "tags": []
   },
   "outputs": [],
   "source": [
    "model = Model('example')"
   ]
  },
  {
   "cell_type": "code",
   "execution_count": 13,
   "id": "0e053c23-8572-4015-b574-b5331b333b0d",
   "metadata": {},
   "outputs": [],
   "source": [
    "x = model.addVar(obj=1, vtype='C', name='x')\n",
    "y = model.addVar(obj=1, vtype='C', name='y')\n",
    "\n",
    "model.update()"
   ]
  },
  {
   "cell_type": "code",
   "execution_count": 14,
   "id": "286b19f7",
   "metadata": {},
   "outputs": [
    {
     "data": {
      "text/plain": [
       "<gurobi.Constr *Awaiting Model Update*>"
      ]
     },
     "execution_count": 14,
     "metadata": {},
     "output_type": "execute_result"
    }
   ],
   "source": [
    "model.addConstr(-x + 2 * y <= 8)\n",
    "model.addConstr(2 * x + y <= 14)\n",
    "model.addConstr(2 * x - y <= 10)\n"
   ]
  },
  {
   "cell_type": "code",
   "execution_count": 15,
   "id": "723b1f21",
   "metadata": {},
   "outputs": [
    {
     "name": "stdout",
     "output_type": "stream",
     "text": [
      "Gurobi Optimizer version 10.0.1 build v10.0.1rc0 (mac64[arm])\n",
      "\n",
      "CPU model: Apple M1\n",
      "Thread count: 8 physical cores, 8 logical processors, using up to 8 threads\n",
      "\n",
      "Optimize a model with 3 rows, 2 columns and 6 nonzeros\n",
      "Model fingerprint: 0x05dac496\n",
      "Coefficient statistics:\n",
      "  Matrix range     [1e+00, 2e+00]\n",
      "  Objective range  [1e+00, 1e+00]\n",
      "  Bounds range     [0e+00, 0e+00]\n",
      "  RHS range        [8e+00, 1e+01]\n",
      "Presolve time: 0.00s\n",
      "Presolved: 3 rows, 2 columns, 6 nonzeros\n",
      "\n",
      "Iteration    Objective       Primal Inf.    Dual Inf.      Time\n",
      "       0    2.0000000e+30   2.500000e+30   2.000000e+00      0s\n",
      "       2    1.0000000e+01   0.000000e+00   0.000000e+00      0s\n",
      "\n",
      "Solved in 2 iterations and 0.01 seconds (0.00 work units)\n",
      "Optimal objective  1.000000000e+01\n",
      "x=4.0, y=6.0\n"
     ]
    }
   ],
   "source": [
    "model.ModelSense = -1\n",
    "\n",
    "model.optimize()\n",
    "\n",
    "print(f\"x={x.x}, y={y.x}\")"
   ]
  },
  {
   "cell_type": "code",
   "execution_count": null,
   "id": "5d3189fe",
   "metadata": {},
   "outputs": [],
   "source": []
  }
 ],
 "metadata": {
  "kernelspec": {
   "display_name": "Python 3 (ipykernel)",
   "language": "python",
   "name": "python3"
  },
  "language_info": {
   "codemirror_mode": {
    "name": "ipython",
    "version": 3
   },
   "file_extension": ".py",
   "mimetype": "text/x-python",
   "name": "python",
   "nbconvert_exporter": "python",
   "pygments_lexer": "ipython3",
   "version": "3.10.8"
  }
 },
 "nbformat": 4,
 "nbformat_minor": 5
}
