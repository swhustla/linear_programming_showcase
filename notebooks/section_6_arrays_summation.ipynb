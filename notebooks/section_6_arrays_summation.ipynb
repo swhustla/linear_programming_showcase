{
 "cells": [
  {
   "cell_type": "markdown",
   "metadata": {},
   "source": [
    "## Arrays and summation"
   ]
  },
  {
   "cell_type": "code",
   "execution_count": 1,
   "metadata": {},
   "outputs": [],
   "source": [
    "# Power generation cost minimization problem\n",
    "\n",
    "# Power generation (Pg) and cost (Cg) arrays\n",
    "\n",
    "# ID     |     Cost      |   Power generation limit\n",
    "# =================================================\n",
    "# 0      |     0.10      |   20 kW\n",
    "# 1      |     0.05      |   10 kW\n",
    "# 2      |     0.30      |   40 kW\n",
    "# 3      |     0.40      |   50 kW\n",
    "# 4      |     0.01      |    5 kW\n",
    "\n",
    "\n",
    "# Load points (Pd)\n",
    "# ID     |     Load demand (kW)\n",
    "# ============================\n",
    "# 0      |     50 kW\n",
    "# 1      |     20 kW\n",
    "# 2      |     30 kW\n",
    "\n",
    "# * Only generators 0 and 3 are available for the load point 0"
   ]
  },
  {
   "cell_type": "code",
   "execution_count": null,
   "metadata": {},
   "outputs": [],
   "source": [
    "# Equations\n",
    "\n",
    "# min sum_i_g(Cg[i_g] * Pg[i_g])     # Minimize cost\n",
    "# where i_g = 0, 1, 2, 3, 4      # Generator IDs\n",
    "\n",
    "# sum_i_g(Pg[i_g]) = sum_i_c(Pd[i_d])   # Power balance\n",
    "\n",
    "# P_d(0) <= P_g(0) + P_g(3)   # Load point 0\n",
    "# P_g(i_g) >= 0 for i_g = 0, 1, 2, 3, 4   # Power generation limits (no negative power generation)\n",
    "# P_g(i_g) <= P_g(i_g)^LIMIT for i_g = 0, 1, 2, 3, 4   # Power generation limits (no power generation above the limit)\n",
    "\n"
   ]
  },
  {
   "cell_type": "code",
   "execution_count": 5,
   "metadata": {},
   "outputs": [],
   "source": [
    "import numpy as np"
   ]
  },
  {
   "cell_type": "code",
   "execution_count": 6,
   "metadata": {},
   "outputs": [],
   "source": [
    "# put geenrator data into an array\n",
    "\n",
    "gen_data = np.array([[0.10, 20], [0.05, 10], [0.30, 40], [0.40, 50], [0.01, 5]])\n",
    "\n",
    "load_data = np.array([50, 20, 30])"
   ]
  },
  {
   "cell_type": "code",
   "execution_count": 9,
   "metadata": {},
   "outputs": [
    {
     "name": "stdout",
     "output_type": "stream",
     "text": [
      "   cost  power_limit\n",
      "0  0.10         20.0\n",
      "1  0.05         10.0\n",
      "2  0.30         40.0\n",
      "3  0.40         50.0\n",
      "4  0.01          5.0\n",
      "   load_demand\n",
      "0           50\n",
      "1           20\n",
      "2           30\n"
     ]
    }
   ],
   "source": [
    "import pyomo.environ as pyo\n",
    "from pyomo.environ import *\n",
    "from pyomo.opt import SolverFactory\n",
    "import pandas as pd\n",
    "\n",
    "# create a model\n",
    "data_gen = pd.DataFrame(gen_data, columns=['cost', 'power_limit'])\n",
    "data_load = pd.DataFrame(load_data, columns=['load_demand'])\n",
    "number_of_generators = len(data_gen)\n",
    "\n",
    "# check the data\n",
    "print(data_gen)\n",
    "print(data_load)"
   ]
  },
  {
   "cell_type": "code",
   "execution_count": 32,
   "metadata": {},
   "outputs": [
    {
     "name": "stdout",
     "output_type": "stream",
     "text": [
      "1 Set Declarations\n",
      "    Pg_index : Size=1, Index=None, Ordered=Insertion\n",
      "        Key  : Dimen : Domain : Size : Members\n",
      "        None :     1 :    Any :    5 : {0, 1, 2, 3, 4}\n",
      "\n",
      "1 Var Declarations\n",
      "    Pg : Size=5, Index=Pg_index\n",
      "        Key : Lower : Value : Upper : Fixed : Stale : Domain\n",
      "          0 :     0 :  None :  None : False :  True :  Reals\n",
      "          1 :     0 :  None :  None : False :  True :  Reals\n",
      "          2 :     0 :  None :  None : False :  True :  Reals\n",
      "          3 :     0 :  None :  None : False :  True :  Reals\n",
      "          4 :     0 :  None :  None : False :  True :  Reals\n",
      "\n",
      "2 Declarations: Pg_index Pg\n"
     ]
    }
   ],
   "source": [
    "# create a model\n",
    "\n",
    "model = pyo.ConcreteModel()\n",
    "\n",
    "model.Pg = pyo.Var(range(number_of_generators),  # one dimension only\n",
    "                   # range(len(data_load)),  # possible second dimension\n",
    "                   bounds = (0, None))   # power generation\n",
    "\n",
    "P_g = model.Pg\n",
    "\n",
    "# print out the model\n",
    "model.pprint()"
   ]
  },
  {
   "cell_type": "code",
   "execution_count": 33,
   "metadata": {},
   "outputs": [
    {
     "data": {
      "text/plain": [
       "[<pyomo.core.base.var._GeneralVarData at 0x15b57d930>,\n",
       " <pyomo.core.base.var._GeneralVarData at 0x15b57d9a0>,\n",
       " <pyomo.core.base.var._GeneralVarData at 0x15b57da10>,\n",
       " <pyomo.core.base.var._GeneralVarData at 0x15b57da80>,\n",
       " <pyomo.core.base.var._GeneralVarData at 0x15b57daf0>]"
      ]
     },
     "execution_count": 33,
     "metadata": {},
     "output_type": "execute_result"
    }
   ],
   "source": [
    "[P_g[g] for g in data_gen.index]"
   ]
  },
  {
   "cell_type": "code",
   "execution_count": 34,
   "metadata": {},
   "outputs": [
    {
     "name": "stdout",
     "output_type": "stream",
     "text": [
      "2 Set Declarations\n",
      "    Pg_index : Size=1, Index=None, Ordered=Insertion\n",
      "        Key  : Dimen : Domain : Size : Members\n",
      "        None :     1 :    Any :    5 : {0, 1, 2, 3, 4}\n",
      "    limits_index : Size=1, Index=None, Ordered=Insertion\n",
      "        Key  : Dimen : Domain : Size : Members\n",
      "        None :     1 :    Any :    5 : {1, 2, 3, 4, 5}\n",
      "\n",
      "1 Var Declarations\n",
      "    Pg : Size=5, Index=Pg_index\n",
      "        Key : Lower : Value : Upper : Fixed : Stale : Domain\n",
      "          0 :     0 :  None :  None : False :  True :  Reals\n",
      "          1 :     0 :  None :  None : False :  True :  Reals\n",
      "          2 :     0 :  None :  None : False :  True :  Reals\n",
      "          3 :     0 :  None :  None : False :  True :  Reals\n",
      "          4 :     0 :  None :  None : False :  True :  Reals\n",
      "\n",
      "3 Constraint Declarations\n",
      "    balance : Size=1, Index=None, Active=True\n",
      "        Key  : Lower : Body                                  : Upper : Active\n",
      "        None : 100.0 : Pg[0] + Pg[1] + Pg[2] + Pg[3] + Pg[4] : 100.0 :   True\n",
      "    cond : Size=1, Index=None, Active=True\n",
      "        Key  : Lower : Body          : Upper : Active\n",
      "        None :  50.0 : Pg[0] + Pg[3] :  +Inf :   True\n",
      "    limits : Size=5, Index=limits_index, Active=True\n",
      "        Key : Lower : Body  : Upper : Active\n",
      "          1 :  -Inf : Pg[0] :  20.0 :   True\n",
      "          2 :  -Inf : Pg[1] :  10.0 :   True\n",
      "          3 :  -Inf : Pg[2] :  40.0 :   True\n",
      "          4 :  -Inf : Pg[3] :  50.0 :   True\n",
      "          5 :  -Inf : Pg[4] :   5.0 :   True\n",
      "\n",
      "6 Declarations: Pg_index Pg balance cond limits_index limits\n"
     ]
    }
   ],
   "source": [
    "# constraints\n",
    "\n",
    "# power balance\n",
    "pg_sum = sum([P_g[g] for g in data_gen.index])    # sum of all generators\n",
    "model.balance = pyo.Constraint(expr = pg_sum == sum(data_load['load_demand']))    # power balance\n",
    "\n",
    "\n",
    "# power generation limits\n",
    "model.cond = pyo.Constraint(expr = P_g[0] + P_g[3] >= data_load['load_demand'][0])    # load point 0\n",
    "\n",
    "model.limits = pyo.ConstraintList()   # create a constraint list\n",
    "\n",
    "for g in data_gen.index:  # loop over all generators\n",
    "    model.limits.add(expr = P_g[g] <= data_gen['power_limit'][g])   # add a constraint to the list\n",
    "\n",
    "# print out the model\n",
    "model.pprint()"
   ]
  },
  {
   "cell_type": "code",
   "execution_count": 35,
   "metadata": {},
   "outputs": [],
   "source": [
    "# Objective function\n",
    "# Here we use a list comprehension to create a list of expressions\n",
    "# and then sum them up\n",
    "\n",
    "cost_sum = sum([P_g[g] * data_gen['cost'][g] for g in data_gen.index])\n",
    "model.obj = pyo.Objective(expr = cost_sum, sense=minimize)\n",
    "\n"
   ]
  },
  {
   "cell_type": "code",
   "execution_count": 38,
   "metadata": {},
   "outputs": [
    {
     "name": "stdout",
     "output_type": "stream",
     "text": [
      "   cost  power_limit    Pg\n",
      "0  0.10         20.0  20.0\n",
      "1  0.05         10.0  10.0\n",
      "2  0.30         40.0  35.0\n",
      "3  0.40         50.0  30.0\n",
      "4  0.01          5.0   5.0\n"
     ]
    }
   ],
   "source": [
    "# solve the model\n",
    "opt = SolverFactory('gurobi')\n",
    "results = opt.solve(model)\n",
    "\n",
    "# print out the results\n",
    "data_gen['Pg'] = [pyo.value(P_g[g]) for g in data_gen.index]\n",
    "print(data_gen)"
   ]
  },
  {
   "cell_type": "code",
   "execution_count": 39,
   "metadata": {},
   "outputs": [],
   "source": [
    "# Notes on Pyomo: Double Summations and Variables with 2 or more dimensions\n",
    "\n",
    "# Pyomo provides a flexible and powerful way to define variables and constraints for optimization problems.\n",
    "# One key feature is the ability to define variables with multiple dimensions.\n",
    "# This is useful for problems with multiple decision variables, such as the power generation problem above.\n",
    "# Let's us x[i, j, k] to represent a variable with three dimensions.\n",
    "\n",
    "# Declaring the variable\n",
    "from pyomo.environ import *\n",
    "\n",
    "# Declaring sets\n",
    "set_I = [1, 2, 3, 4, 5]\n",
    "set_J = [10, 20, 30, 40]\n",
    "set_K = [\"A\", \"B\"]\n",
    "\n",
    "# Declaring the x variable and creating the model (consdering bounds of 0 and 100\n",
    "model = ConcreteModel()\n",
    "model.x = Var(set_I, set_J, set_K, bounds=(0, 100))"
   ]
  },
  {
   "cell_type": "code",
   "execution_count": 41,
   "metadata": {},
   "outputs": [],
   "source": [
    "# Creating a summation with three dimensions or indices\n",
    "\n",
    "sum_x = sum(model.x[i, j, k] for i in set_I for j in set_J for k in set_K)\n",
    "\n",
    "# This creates a new variable that is the sum of all the values of x[i, j, k] for all values of i, j, and k.\n",
    "# you can use this variable in a constraint or objective function.\n",
    "\n"
   ]
  },
  {
   "cell_type": "code",
   "execution_count": 42,
   "metadata": {},
   "outputs": [],
   "source": [
    "# Creating the constraint with the summation (where the sum of all x[i, j, k] is less than or equal to 100)\n",
    "\n",
    "model.constraint = Constraint(expr = sum_x <= 100)\n",
    "\n"
   ]
  },
  {
   "cell_type": "code",
   "execution_count": null,
   "metadata": {},
   "outputs": [],
   "source": []
  }
 ],
 "metadata": {
  "kernelspec": {
   "display_name": "Python 3 (ipykernel)",
   "language": "python",
   "name": "python3"
  },
  "language_info": {
   "codemirror_mode": {
    "name": "ipython",
    "version": 3
   },
   "file_extension": ".py",
   "mimetype": "text/x-python",
   "name": "python",
   "nbconvert_exporter": "python",
   "pygments_lexer": "ipython3",
   "version": "3.10.8"
  }
 },
 "nbformat": 4,
 "nbformat_minor": 4
}
