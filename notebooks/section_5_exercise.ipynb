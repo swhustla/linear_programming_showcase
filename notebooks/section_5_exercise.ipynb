{
 "cells": [
  {
   "cell_type": "markdown",
   "metadata": {},
   "source": [
    "# Exercise; using Pyomo\n",
    "\n",
    "- GLPK, CBC installed with brew\n",
    "- Pyomo installed with poetry\n",
    "- Gurobi licence installed with: `% grbgetkey 8856222a-c3ea-11ed-85be-0242ac120002`\n",
    "\n",
    "- CPlex Downloaded from here: https://ibm.ent.box.com/s/wjuh81fmorssmwwoe4eg2spfl9xrakvn (using Safari\n",
    "    - Activate for Python here: % python /Applications/CPLEX_Studio_Community2211/python/setup.py install"
   ]
  },
  {
   "cell_type": "markdown",
   "metadata": {
    "vscode": {
     "languageId": "plaintext"
    }
   },
   "source": [
    "We wish to minimise -4x - 2y, given these constraints:\n",
    "\n",
    "x + y <= 8  \n",
    "8x + 3y <= -24\n",
    "-6x + 8y <= 48  \n",
    "3x + 5y <= 15\n",
    "\n",
    "\n",
    "x <= 3  \n",
    "0 <= y"
   ]
  },
  {
   "cell_type": "code",
   "execution_count": 1,
   "metadata": {
    "tags": []
   },
   "outputs": [
    {
     "name": "stdout",
     "output_type": "stream",
     "text": [
      "SCIP executable exists: True\n",
      "CBC executable exists: True\n",
      "CPLEX executable exists: True\n"
     ]
    }
   ],
   "source": [
    "#!/usr/bin/python\n",
    "import os, sys\n",
    "# Add the directory containing the SCIP shared libraries to the DYLD_LIBRARY_PATH variable\n",
    "scip_shared_lib_path = \"/usr/local/scipoptsuite-8.0.3/scip/lib/shared\"\n",
    "if \"DYLD_LIBRARY_PATH\" not in os.environ:\n",
    "    print(f\"DYLD_LIBRARY_PATH not set, setting to {scip_shared_lib_path}\")\n",
    "    os.environ[\"DYLD_LIBRARY_PATH\"] = scip_shared_lib_path\n",
    "\n",
    "if \"/usr/local/scipoptsuite-8.0.3/scip/lib/shared\" not in os.environ[\"DYLD_LIBRARY_PATH\"]:\n",
    "    print(f\"Adding {scip_shared_lib_path} to DYLD_LIBRARY_PATH\")\n",
    "    os.environ[\"DYLD_LIBRARY_PATH\"] = scip_shared_lib_path + \":\" + os.environ[\"DYLD_LIBRARY_PATH\"]\n",
    "\n",
    "# Check that the SCIP executable exists (correct for your system)\n",
    "scip_executable = \"/usr/local/scipoptsuite-8.0.3/scip/bin/scip\"\n",
    "print(\"SCIP executable exists:\", os.path.isfile(scip_executable))\n",
    "cbc_executable = \"/opt/homebrew/Cellar/cbc/2.10.8/bin/cbc\"\n",
    "print(\"CBC executable exists:\", os.path.isfile(cbc_executable))\n",
    "cplex_executable_arm = \"/Applications/CPLEX_Studio_Community2211/cplex/bin/arm64_osx/cplex\"\n",
    "print(\"CPLEX executable exists:\", os.path.isfile(cplex_executable_arm))\n",
    "\n",
    "\n",
    "import pyomo.environ as pyo\n",
    "from pyomo.environ import *\n",
    "from pyomo.opt import SolverFactory\n",
    "import pandas as pd\n",
    "\n",
    "# Create a model\n",
    "model = pyo.ConcreteModel()\n",
    "\n",
    "# Create the variables\n",
    "# x <= 3  \n",
    "# 0 <= y\n",
    "model.x = pyo.Var(bounds=(None, 3))\n",
    "model.y = pyo.Var(bounds=(0, None))\n",
    "\n",
    "x = model.x\n",
    "y = model.y\n",
    "\n"
   ]
  },
  {
   "cell_type": "code",
   "execution_count": 2,
   "metadata": {
    "tags": []
   },
   "outputs": [],
   "source": [
    "# Type in our constraints\n",
    "# x + y <= 8  \n",
    "# 8x + 3y <= -24\n",
    "# -6x + 8y <= 48  \n",
    "# 3x + 5y <= 15\n",
    "model.C1 = pyo.Constraint(expr= x + y <= 8)\n",
    "model.C2 = pyo.Constraint(expr= 8*x + 3*y <= -24)\n",
    "model.C3 = pyo.Constraint(expr= -6*x + 8*y <= 48)\n",
    "model.C4 = pyo.Constraint(expr= 3*x + 5*y <= 15)\n",
    "\n",
    "# Type in our objective function\n",
    "# We wish to minimise -4x - 2y\n",
    "model.obj = pyo.Objective(expr= -4*x - 2*y, sense=minimize)"
   ]
  },
  {
   "cell_type": "code",
   "execution_count": 3,
   "metadata": {
    "tags": []
   },
   "outputs": [],
   "source": [
    " # print out the PATH, LD_LIBRARY_PATH and DYLD_LIBRARY_PATH environment variables\n",
    "        # separate by colons\n",
    "# pprint.pprint(f\"PATH = \\n{os.environ['PATH'].split(':')}\")\n",
    "# pprint.pprint(f\"DYLD_LIBRARY_PATH = \\n{os.environ['DYLD_LIBRARY_PATH'].split(':')}\")"
   ]
  },
  {
   "cell_type": "code",
   "execution_count": 4,
   "metadata": {
    "tags": []
   },
   "outputs": [
    {
     "name": "stdout",
     "output_type": "stream",
     "text": [
      "Results for gurobi solver: x = -4.097560975609756, y = 2.926829268292683\n",
      "gurobi took 0.9378170967102051 seconds to solve the model\n",
      "Results for glpk solver: x = -4.09756097560976, y = 2.92682926829268\n",
      "glpk took 0.02432394027709961 seconds to solve the model\n",
      "Results for cplex solver: x = -4.097560975609756, y = 2.926829268292683\n",
      "cplex took 0.269428014755249 seconds to solve the model\n",
      "Results for scip solver: x = -4.097560975609756, y = 2.926829268292683\n",
      "scip took 0.0 seconds to solve the model\n",
      "Results for cbc solver: x = -4.097561, y = 2.9268293\n",
      "cbc took 1.326596975326538 seconds to solve the model\n",
      "Results: \n",
      "======= \n",
      "\n"
     ]
    },
    {
     "data": {
      "text/html": [
       "<div>\n",
       "<style scoped>\n",
       "    .dataframe tbody tr th:only-of-type {\n",
       "        vertical-align: middle;\n",
       "    }\n",
       "\n",
       "    .dataframe tbody tr th {\n",
       "        vertical-align: top;\n",
       "    }\n",
       "\n",
       "    .dataframe thead th {\n",
       "        text-align: right;\n",
       "    }\n",
       "</style>\n",
       "<table border=\"1\" class=\"dataframe\">\n",
       "  <thead>\n",
       "    <tr style=\"text-align: right;\">\n",
       "      <th></th>\n",
       "      <th>Solver</th>\n",
       "      <th>x</th>\n",
       "      <th>y</th>\n",
       "      <th>Time</th>\n",
       "    </tr>\n",
       "  </thead>\n",
       "  <tbody>\n",
       "    <tr>\n",
       "      <th>0</th>\n",
       "      <td>scip</td>\n",
       "      <td>-4.097561</td>\n",
       "      <td>2.926829</td>\n",
       "      <td>0.0000</td>\n",
       "    </tr>\n",
       "    <tr>\n",
       "      <th>0</th>\n",
       "      <td>glpk</td>\n",
       "      <td>-4.097561</td>\n",
       "      <td>2.926829</td>\n",
       "      <td>0.0243</td>\n",
       "    </tr>\n",
       "    <tr>\n",
       "      <th>0</th>\n",
       "      <td>cplex</td>\n",
       "      <td>-4.097561</td>\n",
       "      <td>2.926829</td>\n",
       "      <td>0.2694</td>\n",
       "    </tr>\n",
       "    <tr>\n",
       "      <th>0</th>\n",
       "      <td>gurobi</td>\n",
       "      <td>-4.097561</td>\n",
       "      <td>2.926829</td>\n",
       "      <td>0.9378</td>\n",
       "    </tr>\n",
       "    <tr>\n",
       "      <th>0</th>\n",
       "      <td>cbc</td>\n",
       "      <td>-4.097561</td>\n",
       "      <td>2.926829</td>\n",
       "      <td>1.3266</td>\n",
       "    </tr>\n",
       "  </tbody>\n",
       "</table>\n",
       "</div>"
      ],
      "text/plain": [
       "   Solver         x         y    Time\n",
       "0    scip -4.097561  2.926829  0.0000\n",
       "0    glpk -4.097561  2.926829  0.0243\n",
       "0   cplex -4.097561  2.926829  0.2694\n",
       "0  gurobi -4.097561  2.926829  0.9378\n",
       "0     cbc -4.097561  2.926829  1.3266"
      ]
     },
     "metadata": {},
     "output_type": "display_data"
    }
   ],
   "source": [
    "# Solve the model, comparing the speed of Gurobi, GLPK, CPLEX, SCIP and CBC solvers\n",
    "# Use the package time to measure the time taken to solve the model\n",
    "\n",
    "import os\n",
    "import pandas as pd\n",
    "from pyomo.environ import SolverFactory\n",
    "# ... (Your other imports and model definition)\n",
    "\n",
    "def configure_solvers():\n",
    "    solvers = [\n",
    "        {\n",
    "            \"name\": \"gurobi\",\n",
    "            \"executable\": \"\",\n",
    "            \"path\": \"\",\n",
    "        },\n",
    "        {\n",
    "            \"name\": \"glpk\",\n",
    "            \"executable\": \"\",\n",
    "            \"path\": \"\",\n",
    "        },\n",
    "        {\n",
    "            \"name\": \"cplex\",\n",
    "            \"executable\": \"\",\n",
    "            \"path\": \"/Applications/CPLEX_Studio_Community2211/cplex/bin/arm64_osx\",\n",
    "        },\n",
    "        {\n",
    "            \"name\": \"scip\",\n",
    "            \"executable\": \"/usr/local/scipoptsuite-8.0.3/scip/bin/scip-8.0.3.darwin.arm.gnu.opt.spx2.none\",  # Full path to the SCIP executable\n",
    "            \"path\": \"/usr/local/scipoptsuite-8.0.3/scip/bin\",\n",
    "            \"shared_library_path\": \"/usr/local/scipoptsuite-8.0.3/scip/lib/shared\",\n",
    "            \"soplex_path\": \"/usr/local/scipoptsuite-8.0.3/soplex/lib/shared\",\n",
    "        },\n",
    "\n",
    "        {\n",
    "            \"name\": \"cbc\",\n",
    "            \"executable\": \"\",\n",
    "            \"path\": \"/opt/homebrew/Cellar/cbc/2.10.8/bin\",\n",
    "        },\n",
    "    ]\n",
    "\n",
    "    for solver in solvers:\n",
    "        if solver[\"executable\"]:\n",
    "            executable_name = solver[\"executable\"]\n",
    "        else:\n",
    "            executable_name = solver[\"name\"]\n",
    "\n",
    "        if solver[\"path\"] and executable_name not in os.environ[\"PATH\"]:\n",
    "            os.environ[\"PATH\"] = f\"{solver['path']}:{os.environ['PATH']}\"\n",
    "\n",
    "        if solver.get(\"shared_library_path\") and solver[\"shared_library_path\"] not in os.environ.get(\"DYLD_LIBRARY_PATH\", \"\"):\n",
    "            os.environ[\"DYLD_LIBRARY_PATH\"] = f\"{solver['shared_library_path']}:{os.environ.get('DYLD_LIBRARY_PATH', '')}\"\n",
    "\n",
    "        if solver.get(\"soplex_path\") and solver[\"soplex_path\"] not in os.environ.get(\"DYLD_LIBRARY_PATH\", \"\"):\n",
    "            os.environ[\"DYLD_LIBRARY_PATH\"] = f\"{solver['soplex_path']}:{os.environ.get('DYLD_LIBRARY_PATH', '')}\"\n",
    "\n",
    "configure_solvers()\n",
    "\n",
    "results_df = pd.DataFrame(columns=['Solver', 'x', 'y', 'Time'])\n",
    "\n",
    "for solver_name in ['gurobi', 'glpk', 'cplex', 'scip', 'cbc']:\n",
    "    try: \n",
    "        opt = SolverFactory(solver_name)\n",
    "        results = opt.solve(model)\n",
    "        print (f\"Results for {solver_name} solver: x = {pyo.value(x)}, y = {pyo.value(y)}\")\n",
    "        print(f\"{solver_name} took {results.solver.time} seconds to solve the model\")\n",
    "        results.solver.time = round(results.solver.time, 4)\n",
    "        results_df = pd.concat([results_df, pd.DataFrame({'Solver': solver_name, 'x': pyo.value(x), 'y': pyo.value(y), 'Time': results.solver.time}, index=[0])])\n",
    "    except Exception as e:\n",
    "        # provide useful error message to debug, using PATH and DYLD_LIBRARY_PATH (relevant lines only)\n",
    "        # filter for SCIP entries\n",
    "        filtered_path = [x for x in os.environ['PATH'].split(':') if 'scip' in x]\n",
    "        print(f\"PATH = \\n{filtered_path}\")\n",
    "        filtered_dyld = [x for x in os.environ['DYLD_LIBRARY_PATH'].split(':') if 'scip' in x]\n",
    "        print(f\"DYLD_LIBRARY_PATH = \\n{filtered_dyld}\")\n",
    "        \n",
    "        print(f\"Error: {e}\")\n",
    "        print(f\"{solver_name} solver not available\")\n",
    "        continue\n",
    "\n",
    "print(f\"Results: \\n======= \\n\")\n",
    "\n",
    "from IPython.display import display\n",
    "results_df = results_df.sort_values(by=['Time'])\n",
    "display(results_df)\n",
    "\n",
    "\n",
    "\n",
    "       \n",
    "        \n",
    "\n",
    "\n",
    "\n"
   ]
  },
  {
   "cell_type": "markdown",
   "metadata": {},
   "source": []
  },
  {
   "cell_type": "code",
   "execution_count": 6,
   "metadata": {
    "tags": []
   },
   "outputs": [],
   "source": [
    "# import subprocess\n",
    "# import os\n",
    "\n",
    "# scip_command = \"/usr/local/scipoptsuite-8.0.3/scip/bin/scip-8.0.3.darwin.arm.gnu.opt.spx2.none -f my_model.lp\"\n",
    "\n",
    "# # Set environment variables\n",
    "# my_env = os.environ.copy()\n",
    "# scip_shared_lib_path = \"/usr/local/scipoptsuite-8.0.3/scip/lib/shared\"\n",
    "# scip_soplex_path = \"/usr/local/scipoptsuite-8.0.3/soplex/lib/shared\"\n",
    "# my_env[\"DYLD_LIBRARY_PATH\"] = f\"{scip_shared_lib_path}:{scip_soplex_path}:{my_env.get('DYLD_LIBRARY_PATH', '')}\"\n",
    "# my_env[\"PATH\"] = f\"{my_env['PATH']}:/usr/local/scipoptsuite-8.0.3/scip/bin\"\n",
    "\n",
    "# output = subprocess.check_output(scip_command, shell=True, text=True, env=my_env)\n"
   ]
  },
  {
   "cell_type": "code",
   "execution_count": null,
   "metadata": {},
   "outputs": [],
   "source": []
  }
 ],
 "metadata": {
  "kernelspec": {
   "display_name": "Python 3 (ipykernel)",
   "language": "python",
   "name": "python3"
  },
  "language_info": {
   "codemirror_mode": {
    "name": "ipython",
    "version": 3
   },
   "file_extension": ".py",
   "mimetype": "text/x-python",
   "name": "python",
   "nbconvert_exporter": "python",
   "pygments_lexer": "ipython3",
   "version": "3.10.8"
  }
 },
 "nbformat": 4,
 "nbformat_minor": 4
}
