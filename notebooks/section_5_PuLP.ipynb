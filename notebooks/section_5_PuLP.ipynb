{
 "cells": [
  {
   "cell_type": "code",
   "execution_count": 1,
   "metadata": {},
   "outputs": [],
   "source": [
    "import pulp as pl\n",
    "\n",
    "# limited to linear programming (not quadratic, not integer, not non-linear)\n",
    "\n",
    "# Create an LP Maximisation problem\n",
    "\n",
    "# We wish to maximise x + y, given these constraints:\n",
    "\n",
    "# -x + 2y <= 8  \n",
    "# 2x+ y <= 14  \n",
    "# 2*x- y <= 10  \n",
    "# 0 <= x <= 10  \n",
    "# 0 <= y <= 10  "
   ]
  },
  {
   "cell_type": "code",
   "execution_count": 3,
   "metadata": {},
   "outputs": [],
   "source": [
    "model = pl.LpProblem(\"example\", pl.LpMaximize)\n",
    "\n",
    "# Create problem variables\n",
    "x = pl.LpVariable(\"x\", 0, 10)\n",
    "y = pl.LpVariable(\"y\", 0, 10)"
   ]
  },
  {
   "cell_type": "code",
   "execution_count": 4,
   "metadata": {},
   "outputs": [],
   "source": [
    "# define constraints\n",
    "model += -x + 2 * y <= 8\n",
    "model += 2 * x + y <= 14\n",
    "model += 2 * x - y <= 10\n",
    "\n",
    "# define objective function\n",
    "model += x + y\n"
   ]
  },
  {
   "cell_type": "code",
   "execution_count": 9,
   "metadata": {},
   "outputs": [
    {
     "name": "stdout",
     "output_type": "stream",
     "text": [
      "Welcome to the CBC MILP Solver \n",
      "Version: 2.10.3 \n",
      "Build Date: Dec 15 2019 \n",
      "\n",
      "command line - /Users/frankkelly/Library/Caches/pypoetry/virtualenvs/linear-programming-sahaj-3qyTN_YL-py3.10/lib/python3.10/site-packages/pulp/solverdir/cbc/osx/64/cbc /var/folders/17/sgfdr00n1sn9ddjf831jrsd00000gn/T/642fa5b4685544b399323d60dd64e9ee-pulp.mps max timeMode elapsed branch printingOptions all solution /var/folders/17/sgfdr00n1sn9ddjf831jrsd00000gn/T/642fa5b4685544b399323d60dd64e9ee-pulp.sol (default strategy 1)\n",
      "At line 2 NAME          MODEL\n",
      "At line 3 ROWS\n",
      "At line 8 COLUMNS\n",
      "At line 17 RHS\n",
      "At line 21 BOUNDS\n",
      "At line 24 ENDATA\n",
      "Problem MODEL has 3 rows, 2 columns and 6 elements\n",
      "Coin0008I MODEL read with 0 errors\n",
      "Option for timeMode changed from cpu to elapsed\n",
      "Presolve 3 (0) rows, 2 (0) columns and 6 (0) elements\n",
      "0  Obj -0 Dual inf 1.9999998 (2)\n",
      "2  Obj 10\n",
      "Optimal - objective value 10\n",
      "Optimal objective 10 - 2 iterations time 0.002\n",
      "Option for printingOptions changed from normal to all\n",
      "Total time (CPU seconds):       0.00   (Wallclock seconds):       0.01\n",
      "\n"
     ]
    }
   ],
   "source": [
    "status = model.solve()  # default solver is CBC"
   ]
  },
  {
   "cell_type": "code",
   "execution_count": 10,
   "metadata": {},
   "outputs": [
    {
     "name": "stdout",
     "output_type": "stream",
     "text": [
      "x =  4.0\n",
      "y =  6.0\n"
     ]
    }
   ],
   "source": [
    "x_value = pl.value(x)\n",
    "y_value = pl.value(y)\n",
    "\n",
    "print(\"x = \", x_value)\n",
    "print(\"y = \", y_value)"
   ]
  },
  {
   "cell_type": "code",
   "execution_count": null,
   "metadata": {},
   "outputs": [],
   "source": []
  }
 ],
 "metadata": {
  "kernelspec": {
   "display_name": "linear-programming-sahaj-3qyTN_YL-py3.10",
   "language": "python",
   "name": "python3"
  },
  "language_info": {
   "codemirror_mode": {
    "name": "ipython",
    "version": 3
   },
   "file_extension": ".py",
   "mimetype": "text/x-python",
   "name": "python",
   "nbconvert_exporter": "python",
   "pygments_lexer": "ipython3",
   "version": "3.10.8"
  },
  "orig_nbformat": 4
 },
 "nbformat": 4,
 "nbformat_minor": 2
}
