{
 "cells": [
  {
   "attachments": {},
   "cell_type": "markdown",
   "metadata": {},
   "source": [
    "# SCIP Optimizer"
   ]
  },
  {
   "cell_type": "code",
   "execution_count": 18,
   "metadata": {
    "tags": []
   },
   "outputs": [],
   "source": [
    "# take steps to avoid import errors\n",
    "import sys\n",
    "sys.path.append('../')\n",
    "\n",
    "\n",
    "from pyscipopt import Model\n",
    "\n",
    "\n",
    "# Downside, can't use a solver other than SCIP (e.g. Simplex or Gurobi)"
   ]
  },
  {
   "cell_type": "code",
   "execution_count": 19,
   "metadata": {
    "tags": []
   },
   "outputs": [],
   "source": [
    "model = Model(\"example\")  # create model"
   ]
  },
  {
   "cell_type": "code",
   "execution_count": 20,
   "metadata": {
    "tags": []
   },
   "outputs": [],
   "source": [
    "x = model.addVar(\"x\")   # create variable\n",
    "y = model.addVar(\"y\")"
   ]
  },
  {
   "cell_type": "code",
   "execution_count": 21,
   "metadata": {
    "tags": []
   },
   "outputs": [],
   "source": [
    "model.setObjective(x + y, sense=\"maximize\")"
   ]
  },
  {
   "cell_type": "code",
   "execution_count": 23,
   "metadata": {
    "tags": []
   },
   "outputs": [
    {
     "data": {
      "text/plain": [
       "c3"
      ]
     },
     "execution_count": 23,
     "metadata": {},
     "output_type": "execute_result"
    }
   ],
   "source": [
    "model.addCons(-x + 2 * y <=8)\n",
    "model.addCons(2*x+y<=14 )\n",
    "model.addCons(2*x-y<=10)\n"
   ]
  },
  {
   "cell_type": "code",
   "execution_count": 24,
   "metadata": {
    "tags": []
   },
   "outputs": [
    {
     "name": "stdout",
     "output_type": "stream",
     "text": [
      "feasible solution found by trivial heuristic after 0.0 seconds, objective value 0.000000e+00\n",
      "presolving:\n",
      "(round 1, fast)       0 del vars, 0 del conss, 0 add conss, 2 chg bounds, 0 chg sides, 0 chg coeffs, 0 upgd conss, 0 impls, 0 clqs\n",
      "(round 2, fast)       0 del vars, 0 del conss, 0 add conss, 3 chg bounds, 0 chg sides, 0 chg coeffs, 0 upgd conss, 0 impls, 0 clqs\n",
      "(round 3, fast)       0 del vars, 0 del conss, 0 add conss, 4 chg bounds, 0 chg sides, 0 chg coeffs, 0 upgd conss, 0 impls, 0 clqs\n",
      "   (0.0s) symmetry computation started: requiring (bin +, int +, cont +), (fixed: bin -, int -, cont -)\n",
      "   (0.0s) no symmetry present\n",
      "presolving (4 rounds: 4 fast, 1 medium, 1 exhaustive):\n",
      " 0 deleted vars, 0 deleted constraints, 0 added constraints, 4 tightened bounds, 0 added holes, 0 changed sides, 0 changed coefficients\n",
      " 0 implications, 0 cliques\n",
      "presolved problem has 2 variables (0 bin, 0 int, 0 impl, 2 cont) and 3 constraints\n",
      "      3 constraints of type <linear>\n",
      "Presolving Time: 0.00\n",
      "\n",
      " time | node  | left  |LP iter|LP it/n|mem/heur|mdpt |vars |cons |rows |cuts |sepa|confs|strbr|  dualbound   | primalbound  |  gap   | compl. \n",
      "t 0.0s|     1 |     0 |     0 |     - | trivial|   0 |   2 |   3 |   0 |   0 |  0 |   0 |   0 | 1.450000e+01 | 3.250000e+00 | 346.15%| unknown\n",
      "* 0.0s|     1 |     0 |     2 |     - |    LP  |   0 |   2 |   3 |   3 |   0 |  0 |   0 |   0 | 1.000000e+01 | 1.000000e+01 |   0.00%| unknown\n",
      "  0.0s|     1 |     0 |     2 |     - |   584k |   0 |   2 |   3 |   3 |   0 |  0 |   0 |   0 | 1.000000e+01 | 1.000000e+01 |   0.00%| unknown\n",
      "\n",
      "SCIP Status        : problem is solved [optimal solution found]\n",
      "Solving Time (sec) : 0.00\n",
      "Solving Nodes      : 1\n",
      "Primal Bound       : +1.00000000000000e+01 (3 solutions)\n",
      "Dual Bound         : +1.00000000000000e+01\n",
      "Gap                : 0.00 %\n"
     ]
    }
   ],
   "source": [
    "model.optimize()    # solve the model"
   ]
  },
  {
   "cell_type": "code",
   "execution_count": 25,
   "metadata": {
    "tags": []
   },
   "outputs": [
    {
     "name": "stdout",
     "output_type": "stream",
     "text": [
      "x =  4.0\n",
      "y =  6.0\n"
     ]
    }
   ],
   "source": [
    "sol = model.getBestSol()  # get the best solution\n",
    "\n",
    "print(\"x = \", sol[x])\n",
    "print(\"y = \", sol[y])"
   ]
  },
  {
   "cell_type": "code",
   "execution_count": null,
   "metadata": {},
   "outputs": [],
   "source": []
  }
 ],
 "metadata": {
  "kernelspec": {
   "display_name": "Python 3 (ipykernel)",
   "language": "python",
   "name": "python3"
  },
  "language_info": {
   "codemirror_mode": {
    "name": "ipython",
    "version": 3
   },
   "file_extension": ".py",
   "mimetype": "text/x-python",
   "name": "python",
   "nbconvert_exporter": "python",
   "pygments_lexer": "ipython3",
   "version": "3.10.8"
  }
 },
 "nbformat": 4,
 "nbformat_minor": 4
}
