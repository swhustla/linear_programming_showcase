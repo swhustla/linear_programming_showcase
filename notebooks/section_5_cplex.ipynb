{
 "cells": [
  {
   "attachments": {},
   "cell_type": "markdown",
   "metadata": {},
   "source": [
    "# CPLEX Solver\n",
    "\n",
    "This is a solver made by IBM \n",
    "\n",
    "Downloaded from here: https://ibm.ent.box.com/s/wjuh81fmorssmwwoe4eg2spfl9xrakvn (using Safari)\n",
    "\n",
    "Activate for Python here: % python /Applications/CPLEX_Studio_Community2211/python/setup.py install\n"
   ]
  },
  {
   "cell_type": "code",
   "execution_count": null,
   "metadata": {},
   "outputs": [],
   "source": []
  }
 ],
 "metadata": {
  "language_info": {
   "name": "python"
  },
  "orig_nbformat": 4
 },
 "nbformat": 4,
 "nbformat_minor": 2
}
