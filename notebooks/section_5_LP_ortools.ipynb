{
 "cells": [
  {
   "cell_type": "code",
   "execution_count": null,
   "metadata": {},
   "outputs": [],
   "source": []
  },
  {
   "attachments": {},
   "cell_type": "markdown",
   "metadata": {},
   "source": [
    "# LP: Ortools"
   ]
  },
  {
   "cell_type": "code",
   "execution_count": 1,
   "metadata": {},
   "outputs": [],
   "source": [
    "\"\"\" Experimental code for solving linear programming problems with the Google OR-Tools library.\n",
    "\n",
    "Ortools is only for linear programming problems. For non-linear problems, use Pyomo.\n",
    "\n",
    "This code is based on the following tutorial:\n",
    "https://www.udemy.com/course/optimization-with-python-linear-nonlinear-and-cplex-gurobi/learn/lecture/25811854?start=30#content\n",
    "\"\"\"\n",
    "\n",
    "from ortools.linear_solver import pywraplp\n"
   ]
  },
  {
   "cell_type": "code",
   "execution_count": 14,
   "metadata": {},
   "outputs": [],
   "source": [
    "solver = pywraplp.Solver.CreateSolver('GLOP')   # Create the linear solver with the GLOP backend.\n"
   ]
  },
  {
   "cell_type": "code",
   "execution_count": 15,
   "metadata": {},
   "outputs": [],
   "source": [
    "x = solver.NumVar(0, 10, 'x')   # Create the variable x, with a lower bound of 0 and an upper bound of 10.\n",
    "y = solver.NumVar(0, 10, 'y')   # Create the variable y, with a lower bound of 0 and an upper bound of 10."
   ]
  },
  {
   "cell_type": "code",
   "execution_count": 16,
   "metadata": {},
   "outputs": [
    {
     "data": {
      "text/plain": [
       "<ortools.linear_solver.pywraplp.Constraint; proxy of <Swig Object of type 'operations_research::MPConstraint *' at 0x107909b00> >"
      ]
     },
     "execution_count": 16,
     "metadata": {},
     "output_type": "execute_result"
    }
   ],
   "source": [
    "solver.Add(-x + 2*y <= 8)   # Add the constraint -x + 2y <= 8.\n",
    "solver.Add(2*x + y <= 14)   # Add the constraint 2x + y <= 14.\n",
    "solver.Add(2*x - y <= 10)   # Add the constraint 2x - y <= 10."
   ]
  },
  {
   "cell_type": "code",
   "execution_count": 17,
   "metadata": {},
   "outputs": [],
   "source": [
    "solver.Maximize(x + y)"
   ]
  },
  {
   "cell_type": "code",
   "execution_count": 18,
   "metadata": {},
   "outputs": [],
   "source": [
    "results = solver.Solve()"
   ]
  },
  {
   "cell_type": "code",
   "execution_count": 19,
   "metadata": {},
   "outputs": [
    {
     "name": "stdout",
     "output_type": "stream",
     "text": [
      "Optimal solution found.\n",
      "Objective value = 10.0\n",
      "x = 4.0\n",
      "y = 6.0\n"
     ]
    }
   ],
   "source": [
    "if results == pywraplp.Solver.OPTIMAL:\n",
    "    print('Optimal solution found.')\n",
    "print('Objective value =', solver.Objective().Value())\n",
    "print('x =', x.solution_value())\n",
    "print('y =', y.solution_value())"
   ]
  },
  {
   "cell_type": "code",
   "execution_count": null,
   "metadata": {},
   "outputs": [],
   "source": []
  }
 ],
 "metadata": {
  "kernelspec": {
   "display_name": "linear-programming-sahaj-3qyTN_YL-py3.10",
   "language": "python",
   "name": "python3"
  },
  "language_info": {
   "codemirror_mode": {
    "name": "ipython",
    "version": 3
   },
   "file_extension": ".py",
   "mimetype": "text/x-python",
   "name": "python",
   "nbconvert_exporter": "python",
   "pygments_lexer": "ipython3",
   "version": "3.10.8"
  },
  "orig_nbformat": 4,
  "vscode": {
   "interpreter": {
    "hash": "fd11e22fa64297a3337186dba94ff3a4fcbed1d02ec41618873c32240d96e928"
   }
  }
 },
 "nbformat": 4,
 "nbformat_minor": 2
}
