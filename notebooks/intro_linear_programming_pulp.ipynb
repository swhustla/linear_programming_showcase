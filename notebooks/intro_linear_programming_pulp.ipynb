{
 "cells": [
  {
   "cell_type": "code",
   "execution_count": 1,
   "metadata": {},
   "outputs": [],
   "source": [
    "from pulp import *\n",
    "import pandas as pd\n",
    "import numpy as np\n",
    "\n",
    "\n",
    "# Inspired by https://towardsdatascience.com/linear-programming-using-python-priyansh-22b5ee888fe0\n",
    "\n"
   ]
  },
  {
   "cell_type": "code",
   "execution_count": 41,
   "metadata": {},
   "outputs": [],
   "source": [
    "# Data definition\n",
    "# ---------------\n",
    "\n",
    "number_of_warehouses = 2\n",
    "number_of_customers = 4\n",
    "\n",
    "# Cost Matrix - Rows: Warehouses, Columns: Customers\n",
    "cost_matrix = np.array([[1, 3, 0.5, 4],\n",
    "                        [2.5, 5, 1.5, 2.5]])\n",
    "\n",
    "# Demand Vector - Rows: Customers\n",
    "customer_demand = np.array([35000, 22000, 18000, 30000])\n",
    "\n",
    "# Supply Vector - Rows: Warehouses\n",
    "warehouse_supply = np.array([60000, 80000])\n"
   ]
  },
  {
   "cell_type": "code",
   "execution_count": 48,
   "metadata": {},
   "outputs": [],
   "source": [
    "# Model Initialization\n",
    "\n",
    "model = LpProblem(name=\"Supply-Demand_Problem\", sense=LpMinimize)  # args: name, sense (minimize or maximize)"
   ]
  },
  {
   "cell_type": "code",
   "execution_count": 49,
   "metadata": {},
   "outputs": [
    {
     "name": "stdout",
     "output_type": "stream",
     "text": [
      "Variable Indices: ['11', '12', '13', '14', '21', '22', '23', '24']\n"
     ]
    }
   ],
   "source": [
    "# Define Decision Variables\n",
    "\n",
    "# Create a list of tuples containing all the possible combinations of\n",
    "# indices for the warehouses and customers\n",
    "\n",
    "variable_names = [str(i) + str(j) for j in range(1, number_of_customers + 1) for i in range(1, number_of_warehouses + 1)]\n",
    "variable_names.sort()\n",
    "\n",
    "print(f\"Variable Indices: {variable_names}\")\n",
    "\n"
   ]
  },
  {
   "cell_type": "code",
   "execution_count": 50,
   "metadata": {},
   "outputs": [
    {
     "name": "stdout",
     "output_type": "stream",
     "text": [
      "Decision Variables / Allocation Matrix: \n",
      "[[X_11 X_12 X_13 X_14]\n",
      " [X_21 X_22 X_23 X_24]]\n"
     ]
    }
   ],
   "source": [
    "# Define Variables - Rows: Warehouses, Columns: Customers\n",
    "\n",
    "decision_variables = LpVariable.matrix(name=\"X\", indices=variable_names, lowBound=0, cat=\"Integer\")\n",
    "\n",
    "allocation = np.array(decision_variables).reshape(number_of_warehouses, number_of_customers)\n",
    "\n",
    "print(f\"Decision Variables / Allocation Matrix: \\n{allocation}\")"
   ]
  },
  {
   "cell_type": "code",
   "execution_count": 51,
   "metadata": {},
   "outputs": [
    {
     "name": "stdout",
     "output_type": "stream",
     "text": [
      "Objective Function: \n",
      "X_11 + 3.0*X_12 + 0.5*X_13 + 4.0*X_14 + 2.5*X_21 + 5.0*X_22 + 1.5*X_23 + 2.5*X_24\n",
      "Model: \n",
      "Supply-Demand_Problem:\n",
      "MINIMIZE\n",
      "1.0*X_11 + 3.0*X_12 + 0.5*X_13 + 4.0*X_14 + 2.5*X_21 + 5.0*X_22 + 1.5*X_23 + 2.5*X_24 + 0.0\n",
      "VARIABLES\n",
      "0 <= X_11 Integer\n",
      "0 <= X_12 Integer\n",
      "0 <= X_13 Integer\n",
      "0 <= X_14 Integer\n",
      "0 <= X_21 Integer\n",
      "0 <= X_22 Integer\n",
      "0 <= X_23 Integer\n",
      "0 <= X_24 Integer\n",
      "\n"
     ]
    }
   ],
   "source": [
    "# Define Objective Function - Overall cost of supply\n",
    "objective_function = lpSum(allocation * cost_matrix)  # sum-product of allocation and cost matrix\n",
    "\n",
    "print(f\"Objective Function: \\n{objective_function}\")\n",
    "\n",
    "model += objective_function\n",
    "\n",
    "print(f\"Model: \\n{model}\")"
   ]
  },
  {
   "cell_type": "code",
   "execution_count": 52,
   "metadata": {},
   "outputs": [
    {
     "name": "stdout",
     "output_type": "stream",
     "text": [
      "Supply Constraint Warehouse 1: X_11 + X_12 + X_13 + X_14 <= 60000\n",
      "Supply Constraint Warehouse 2: X_21 + X_22 + X_23 + X_24 <= 80000\n"
     ]
    }
   ],
   "source": [
    "# Define Constraints - 2 types of constraints\n",
    "# 1. Supply or Warehouse Constraints - Total supply from each warehouse must be less than or equal to the warehouse's supply\n",
    "# 2. Demand or Customer Constraints - Total demand from each customer must be less than or equal to the customer's demand\n",
    "\n",
    "# Supply or Warehouse Constraints\n",
    "\n",
    "for i in range(number_of_warehouses):\n",
    "    print(f\"Supply Constraint Warehouse {i + 1}: {lpSum(allocation[i, :])} <= {warehouse_supply[i]}\")\n",
    "    model += lpSum(allocation[i, :]) <= warehouse_supply[i], f\"Supply Constraint Warehouse {i + 1}\""
   ]
  },
  {
   "cell_type": "code",
   "execution_count": 53,
   "metadata": {},
   "outputs": [
    {
     "name": "stdout",
     "output_type": "stream",
     "text": [
      "Demand Constraint Customer 1: X_11 + X_21 <= 35000\n",
      "Demand Constraint Customer 2: X_12 + X_22 <= 22000\n",
      "Demand Constraint Customer 3: X_13 + X_23 <= 18000\n",
      "Demand Constraint Customer 4: X_14 + X_24 <= 30000\n"
     ]
    }
   ],
   "source": [
    "# Customer or Demand Constraints\n",
    "\n",
    "for j in range(number_of_customers):\n",
    "    print(f\"Demand Constraint Customer {j + 1}: {lpSum(allocation[:, j])} <= {customer_demand[j]}\")\n",
    "    model += lpSum(allocation[:, j]) >= customer_demand[j], f\"Demand Constraint Customer {j + 1}\""
   ]
  },
  {
   "cell_type": "code",
   "execution_count": 37,
   "metadata": {},
   "outputs": [
    {
     "name": "stdout",
     "output_type": "stream",
     "text": [
      "Model: \n",
      "Supply-Demand_Problem:\n",
      "MINIMIZE\n",
      "1.0*x_11 + 3.0*x_12 + 0.5*x_13 + 4.0*x_14 + 2.5*x_21 + 5.0*x_22 + 1.5*x_23 + 2.5*x_24 + 0.0\n",
      "SUBJECT TO\n",
      "Supply_Constraint_Warehouse_1: x_11 + x_12 + x_13 + x_14 <= 60000\n",
      "\n",
      "Supply_Constraint_Warehouse_2: x_21 + x_22 + x_23 + x_24 <= 80000\n",
      "\n",
      "Demand_Constraint_Customer_1: x_11 + x_21 <= 35000\n",
      "\n",
      "Demand_Constraint_Customer_2: x_12 + x_22 <= 22000\n",
      "\n",
      "Demand_Constraint_Customer_3: x_13 + x_23 <= 18000\n",
      "\n",
      "Demand_Constraint_Customer_4: x_14 + x_24 <= 30000\n",
      "\n",
      "VARIABLES\n",
      "0 <= x_11 Integer\n",
      "0 <= x_12 Integer\n",
      "0 <= x_13 Integer\n",
      "0 <= x_14 Integer\n",
      "0 <= x_21 Integer\n",
      "0 <= x_22 Integer\n",
      "0 <= x_23 Integer\n",
      "0 <= x_24 Integer\n",
      "\n"
     ]
    }
   ],
   "source": [
    "# Check the model\n",
    "\n",
    "print(f\"Model: \\n{model}\")"
   ]
  },
  {
   "cell_type": "code",
   "execution_count": 54,
   "metadata": {},
   "outputs": [
    {
     "data": {
      "text/plain": [
       "[X_11, X_12, X_13, X_14, X_21, X_22, X_23, X_24]"
      ]
     },
     "execution_count": 54,
     "metadata": {},
     "output_type": "execute_result"
    }
   ],
   "source": [
    "# Save the model into a \".lp\" file\n",
    "model.writeLP(\"Supply-Demand_Problem.lp\")"
   ]
  },
  {
   "cell_type": "code",
   "execution_count": 55,
   "metadata": {},
   "outputs": [
    {
     "name": "stdout",
     "output_type": "stream",
     "text": [
      "Welcome to the CBC MILP Solver \n",
      "Version: 2.10.3 \n",
      "Build Date: Dec 15 2019 \n",
      "\n",
      "command line - /Users/frankkelly/Library/Caches/pypoetry/virtualenvs/linear-programming-sahaj-3qyTN_YL-py3.10/lib/python3.10/site-packages/pulp/solverdir/cbc/osx/64/cbc /var/folders/17/sgfdr00n1sn9ddjf831jrsd00000gn/T/5ac7dbd7bd134e898558009ff45352ae-pulp.mps timeMode elapsed branch printingOptions all solution /var/folders/17/sgfdr00n1sn9ddjf831jrsd00000gn/T/5ac7dbd7bd134e898558009ff45352ae-pulp.sol (default strategy 1)\n",
      "At line 2 NAME          MODEL\n",
      "At line 3 ROWS\n",
      "At line 11 COLUMNS\n",
      "At line 52 RHS\n",
      "At line 59 BOUNDS\n",
      "At line 68 ENDATA\n",
      "Problem MODEL has 6 rows, 8 columns and 16 elements\n",
      "Coin0008I MODEL read with 0 errors\n",
      "Option for timeMode changed from cpu to elapsed\n",
      "Continuous objective value is 200000 - 0.00 seconds\n",
      "Cgl0004I processed model has 6 rows, 8 columns (8 integer (0 of which binary)) and 16 elements\n",
      "Cutoff increment increased from 1e-05 to 0.4999\n",
      "Cbc0012I Integer solution of 200000 found by DiveCoefficient after 0 iterations and 0 nodes (0.01 seconds)\n",
      "Cbc0001I Search completed - best objective 200000, took 0 iterations and 0 nodes (0.01 seconds)\n",
      "Cbc0035I Maximum depth 0, 0 variables fixed on reduced cost\n",
      "Cuts at root node changed objective from 200000 to 200000\n",
      "Probing was tried 0 times and created 0 cuts of which 0 were active after adding rounds of cuts (0.000 seconds)\n",
      "Gomory was tried 0 times and created 0 cuts of which 0 were active after adding rounds of cuts (0.000 seconds)\n",
      "Knapsack was tried 0 times and created 0 cuts of which 0 were active after adding rounds of cuts (0.000 seconds)\n",
      "Clique was tried 0 times and created 0 cuts of which 0 were active after adding rounds of cuts (0.000 seconds)\n",
      "MixedIntegerRounding2 was tried 0 times and created 0 cuts of which 0 were active after adding rounds of cuts (0.000 seconds)\n",
      "FlowCover was tried 0 times and created 0 cuts of which 0 were active after adding rounds of cuts (0.000 seconds)\n",
      "TwoMirCuts was tried 0 times and created 0 cuts of which 0 were active after adding rounds of cuts (0.000 seconds)\n",
      "ZeroHalf was tried 0 times and created 0 cuts of which 0 were active after adding rounds of cuts (0.000 seconds)\n",
      "\n",
      "Result - Optimal solution found\n",
      "\n",
      "Objective value:                200000.00000000\n",
      "Enumerated nodes:               0\n",
      "Total iterations:               0\n",
      "Time (CPU seconds):             0.00\n",
      "Time (Wallclock seconds):       0.01\n",
      "\n",
      "Option for printingOptions changed from normal to all\n",
      "Total time (CPU seconds):       0.00   (Wallclock seconds):       0.02\n",
      "\n",
      "Status: Optimal\n"
     ]
    }
   ],
   "source": [
    "# Run the model and check the status\n",
    "\n",
    "\n",
    "model.solve(PULP_CBC_CMD())\n",
    "print(f\"Status: {LpStatus[model.status]}\")"
   ]
  },
  {
   "cell_type": "code",
   "execution_count": 56,
   "metadata": {},
   "outputs": [
    {
     "name": "stdout",
     "output_type": "stream",
     "text": [
      "Total Cost: 200000.0\n",
      "X_11: 35000.0\n",
      "X_12: 22000.0\n",
      "X_13: 3000.0\n",
      "X_14: 0.0\n",
      "X_21: 0.0\n",
      "X_22: 0.0\n",
      "X_23: 15000.0\n",
      "X_24: 30000.0\n"
     ]
    }
   ],
   "source": [
    "# Print the results (Objective Function Value and Decision Variables Values)\n",
    "\n",
    "print(f\"Total Cost: {value(model.objective)}\")\n",
    "\n",
    "# Print the decision variables values\n",
    "\n",
    "for variable in model.variables():\n",
    "    try: \n",
    "        print(f\"{variable.name}: {variable.varValue}\")\n",
    "    except AttributeError:\n",
    "        print(f\"{variable.name}: {variable.value()}\")\n",
    "\n",
    "        \n"
   ]
  },
  {
   "cell_type": "code",
   "execution_count": 60,
   "metadata": {},
   "outputs": [
    {
     "name": "stdout",
     "output_type": "stream",
     "text": [
      "Required Capacity Warehouse 1: 60000.0\n",
      "Required Capacity Warehouse 2: 45000.0\n"
     ]
    }
   ],
   "source": [
    "# Warehouse 1 and 2 required capacity\n",
    "\n",
    "for i in range(number_of_warehouses):\n",
    "    print(f\"Required Capacity Warehouse {i + 1}: {lpSum(allocation[i][j].value() for j in range(number_of_customers))}\")\n"
   ]
  },
  {
   "cell_type": "code",
   "execution_count": null,
   "metadata": {},
   "outputs": [],
   "source": []
  }
 ],
 "metadata": {
  "kernelspec": {
   "display_name": "linear-programming-sahaj-3qyTN_YL-py3.10",
   "language": "python",
   "name": "python3"
  },
  "language_info": {
   "codemirror_mode": {
    "name": "ipython",
    "version": 3
   },
   "file_extension": ".py",
   "mimetype": "text/x-python",
   "name": "python",
   "nbconvert_exporter": "python",
   "pygments_lexer": "ipython3",
   "version": "3.10.8"
  },
  "orig_nbformat": 4,
  "vscode": {
   "interpreter": {
    "hash": "fd11e22fa64297a3337186dba94ff3a4fcbed1d02ec41618873c32240d96e928"
   }
  }
 },
 "nbformat": 4,
 "nbformat_minor": 2
}
