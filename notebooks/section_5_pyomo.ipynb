{
 "cells": [
  {
   "cell_type": "markdown",
   "metadata": {},
   "source": [
    "# using Pyomo\n",
    "\n",
    "- GLPK installed with brew\n",
    "- Pyomo installed with poetry\n",
    "- Gurobi licence installed with: `% grbgetkey 8856222a-c3ea-11ed-85be-0242ac120002`"
   ]
  },
  {
   "cell_type": "markdown",
   "metadata": {
    "vscode": {
     "languageId": "plaintext"
    }
   },
   "source": [
    "We wish to maximise x + y, given these constraints:\n",
    "\n",
    "-x + 2y <= 8  \n",
    "2x+ y <= 14  \n",
    "2*x- y <= 10  \n",
    "0 <= x <= 10  \n",
    "0 <= y <= 10  "
   ]
  },
  {
   "cell_type": "code",
   "execution_count": 1,
   "metadata": {},
   "outputs": [],
   "source": [
    "import pyomo.environ as pyo\n",
    "from pyomo.environ import *\n",
    "from pyomo.opt import SolverFactory\n",
    "\n",
    "# Create a model\n",
    "model = pyo.ConcreteModel()\n",
    "\n",
    "# Create the variables\n",
    "model.x = pyo.Var(bounds=(0, 10))\n",
    "model.y = pyo.Var(bounds=(0, 10))\n",
    "\n",
    "x = model.x\n",
    "y = model.y\n",
    "\n"
   ]
  },
  {
   "cell_type": "code",
   "execution_count": 2,
   "metadata": {},
   "outputs": [],
   "source": [
    "# Type in our constraints\n",
    "model.C1 = pyo.Constraint(expr= -x+ 2*y <= 8)\n",
    "model.C2 = pyo.Constraint(expr= 2*x+ y <= 14)\n",
    "model.C3 = pyo.Constraint(expr= 2*x -y <= 10)\n",
    "\n",
    "# Type in our objective function\n",
    "model.obj = pyo.Objective(expr= x + y, sense=maximize)"
   ]
  },
  {
   "cell_type": "code",
   "execution_count": 3,
   "metadata": {},
   "outputs": [],
   "source": [
    "opt = SolverFactory('gurobi')  # Use CPLEX  (could also use Gurobi, etc.)\n"
   ]
  },
  {
   "cell_type": "code",
   "execution_count": 4,
   "metadata": {},
   "outputs": [
    {
     "name": "stdout",
     "output_type": "stream",
     "text": [
      "2 Var Declarations\n",
      "    x : Size=1, Index=None\n",
      "        Key  : Lower : Value : Upper : Fixed : Stale : Domain\n",
      "        None :     0 :   4.0 :    10 : False : False :  Reals\n",
      "    y : Size=1, Index=None\n",
      "        Key  : Lower : Value : Upper : Fixed : Stale : Domain\n",
      "        None :     0 :   6.0 :    10 : False : False :  Reals\n",
      "\n",
      "1 Objective Declarations\n",
      "    obj : Size=1, Index=None, Active=True\n",
      "        Key  : Active : Sense    : Expression\n",
      "        None :   True : maximize : x + y\n",
      "\n",
      "3 Constraint Declarations\n",
      "    C1 : Size=1, Index=None, Active=True\n",
      "        Key  : Lower : Body      : Upper : Active\n",
      "        None :  -Inf : - x + 2*y :   8.0 :   True\n",
      "    C2 : Size=1, Index=None, Active=True\n",
      "        Key  : Lower : Body    : Upper : Active\n",
      "        None :  -Inf : 2*x + y :  14.0 :   True\n",
      "    C3 : Size=1, Index=None, Active=True\n",
      "        Key  : Lower : Body    : Upper : Active\n",
      "        None :  -Inf : 2*x - y :  10.0 :   True\n",
      "\n",
      "6 Declarations: x y C1 C2 C3 obj\n",
      "x = 4.0\n",
      "y = 6.0\n"
     ]
    }
   ],
   "source": [
    "\n",
    "opt.solve(model)\n",
    "\n",
    "# Print the results\n",
    "model.pprint()\n",
    "\n",
    "x_value = pyo.value(x)\n",
    "y_value = pyo.value(y)\n",
    "\n",
    "print(f\"x = {x_value}\")\n",
    "print(f\"y = {y_value}\")"
   ]
  },
  {
   "cell_type": "code",
   "execution_count": null,
   "metadata": {},
   "outputs": [],
   "source": []
  }
 ],
 "metadata": {
  "kernelspec": {
   "display_name": "Python 3 (ipykernel)",
   "language": "python",
   "name": "python3"
  },
  "language_info": {
   "codemirror_mode": {
    "name": "ipython",
    "version": 3
   },
   "file_extension": ".py",
   "mimetype": "text/x-python",
   "name": "python",
   "nbconvert_exporter": "python",
   "pygments_lexer": "ipython3",
   "version": "3.10.8"
  }
 },
 "nbformat": 4,
 "nbformat_minor": 4
}
